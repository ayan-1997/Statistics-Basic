{
  "nbformat": 4,
  "nbformat_minor": 0,
  "metadata": {
    "colab": {
      "provenance": []
    },
    "kernelspec": {
      "name": "python3",
      "display_name": "Python 3"
    },
    "language_info": {
      "name": "python"
    }
  },
  "cells": [
    {
      "cell_type": "code",
      "execution_count": null,
      "metadata": {
        "id": "xg8jXiGhZhyV"
      },
      "outputs": [],
      "source": [
        "# Question 1: What is the difference between descriptive statistics and inferential statistics? Explain with examples.\n",
        "'''\n",
        "DESCRIPTIVE STATISTICS\n",
        "Def- It consist of orgainsing and summarizing the complete data.\n",
        "Techniques are-\n",
        "1.\tMeasure of central tendency( Mean, median, mode)\n",
        "2.\tMeasure of symmetricity (skewness)\n",
        "3.\tMeasure of dispersion(Variance, Standard daviation)\n",
        "Purpose: They describe the characteristics of a dataset\n",
        "\n",
        "INFERENTIAL SATISTICS\n",
        "Def- It consist of using data that has been measure to form conclusion about a population, with given sample data can we conclude something about population. It means sampling the population and calculate whole population data from sample data.\n",
        "Techniques are-\n",
        "1.\tHypothesis testing (t-test, chi-square test, ANOVA)\n",
        "2.\tConfidence intervals\n",
        "3.\t Regression analysis\n",
        "4.\t Sampling techniques\n",
        "Purpose: They help us test hypotheses and draw conclusions beyond the given data.\n",
        "'''\n",
        "\n",
        "\n",
        "\n",
        "# Question 2: What is sampling in statistics? Explain the differences between random and stratified sampling.\n",
        "'''\n",
        "Answer:\n",
        "Sampling is the process of selecting a subset (sample) of individuals, items, or observations from a population so that we can study the sample data and make inferences about the entire population.\n",
        "\n",
        "Random sampling:\n",
        "Every member of the population has an equal chance of being selected in the sample.\n",
        "Advantages- Easy to implement, Unbiased if truly random\n",
        "Disadvantages: A possibility of members not being part of sample from a certain group.\n",
        "Ex- A university has 1,000 students. You randomly select 100 students from the complete list, without considering their year, course, or gender.\n",
        "\n",
        "Stratified sampling:\n",
        "The population is divided into groups or layers (strata) based on specific characteristics (like age, gender, income, course), and then a random sample is taken from each strata.\n",
        "Advantages: Ensures all important subgroups are represented, More accurate and reliable than simple random sampling if population is diverse\n",
        "Disadvantages: More complex to organize, requires the population structure.\n",
        "Ex- A university has 1,000 students: 600 male, 400 female.\n",
        "If we want a sample of 100 students using stratified sampling: Take 60 males and 40 females (proportional to population). Within each group, select randomly.\n",
        "'''\n",
        "\n",
        "# Question 3: Define mean, median, and mode. Explain why these measures of central tendency are important.\n",
        "'''\n",
        "Answer:\n",
        "Mean: Summing of all observations and dividing by number of observations.\n",
        "Ex- The data is 3,4,5,6,7,8\n",
        "First step: sum of all observations= (3+4+5+6+7+8)=33\n",
        "Second step: mean= 33/6=5.5\n",
        "\n",
        "Median: The middle value of an orderd data set. If the number of observations is odd  the median is middle value of the given observations. If even the median is average of the two middle values of that observation.\n",
        "Ex-\n",
        "For odd dataset= 10, 20, 30, 40, 50 median is 30\n",
        "For even dataset= 10, 20, 30, 40, 50, 60 median is the mean of 30&40= (30+40)/2=35\n",
        "\n",
        "Mode: The value that occurs most frequently in the dataset.\n",
        "Ex-  for dataset= 5, 3, 7, 8, 9, 5, 5, 6 mode is 5\n",
        "\n",
        "These measures of central tendency are important because:\n",
        "•   Mean considers all values but is sensitive to outliers.\n",
        "•   Median is more robust when data has outliers or is skewed.\n",
        "•   Mode is useful for categorical data.\n",
        "'''\n",
        "# Question 4: Explain skewness and kurtosis. What does a positive skew imply about the data?\n",
        "'''\n",
        "Answer:\n",
        "Skewness: Skewness measures the asymmetry of the probability distribution of data.\n",
        "Types of skewness:\n",
        "1.\tSymmetrical Distribution → Skewness = 0 (e.g.,  log-normal distribution).\n",
        "2.\tPositive Skew (Right Skewed) → Tail is longer on the right side.\n",
        "\tMean > Median > Mode\n",
        "3.\tNegative Skew (Left Skewed) → Tail is longer on the left side.\n",
        "\tMean < Median < Mode\n",
        "\n",
        "Kurtosis: Kurtosis measures the “tailedness” or peakedness of a distribution compared to a normal distribution.\n",
        "Types of kurtosis:\n",
        "1.\tMesokurtic → Normal distribution (Kurtosis ≈ 3).\n",
        "2.\tLeptokurtic → More peaked and heavier tails (Kurtosis > 3).\n",
        "o\tData has more extreme outliers.\n",
        "3.\tPlatykurtic → Flatter and lighter tails (Kurtosis < 3).\n",
        "o\tData has fewer outliers than normal distribution.\n",
        "Positive Skewed  imply: Data is right-skewed, Majority of values are concentrated on the lower side, A long right tail indicates the presence of outliers, order of central tendency like Mean>Median>Mode.\n",
        "'''"
      ]
    },
    {
      "cell_type": "code",
      "source": [
        "# Question 5: Implement a Python program to compute the mean, median, and mode of a given list of numbers. numbers = [12, 15, 12, 18, 19, 12, 20, 22, 19, 19, 24, 24, 24, 26, 28]\n",
        "\n",
        "import numpy as np\n",
        "number = [12, 15, 12, 18, 19, 12, 20, 22, 19, 19, 24, 24, 24, 26, 28]\n",
        "print( \"The Mean is:\", np.mean(number))\n",
        "print( \"The Median is:\", np.median(number))\n",
        "\n",
        "import statistics\n",
        "number = [12, 15, 12, 18, 19, 12, 20, 22, 19, 19, 24, 24, 24, 26, 28]\n",
        "print(\"The Mode is:\", statistics.mode(number))\n",
        "\n",
        "#But here mode is three in the given dataset= 12, 19, 24\n",
        "\n"
      ],
      "metadata": {
        "colab": {
          "base_uri": "https://localhost:8080/"
        },
        "id": "w3Wo2yj-dS2S",
        "outputId": "364841ca-9fa4-4f77-fdc6-c538eaf7ea76"
      },
      "execution_count": 1,
      "outputs": [
        {
          "output_type": "stream",
          "name": "stdout",
          "text": [
            "The Mean is: 19.6\n",
            "The Median is: 19.0\n",
            "The Mode is: 12\n"
          ]
        }
      ]
    },
    {
      "cell_type": "code",
      "source": [
        "# Question 6: Compute the covariance and correlation coefficient between the following two datasets provided as lists in Python: list_x = [10, 20, 30, 40, 50] list_y = [15, 25, 35, 45, 60]\n",
        "\n",
        "import numpy as np\n",
        "list_x = [10, 20, 30, 40, 50]\n",
        "list_y = [15, 25, 35, 45, 60]\n",
        "x = np.array(list_x)\n",
        "y = np.array(list_y)\n",
        "\n",
        "mean_x = np.mean(x)\n",
        "mean_y = np.mean(y)\n",
        "covariance = np.mean((x - mean_x) * (y - mean_y))\n",
        "\n",
        "correlation = np.corrcoef(x, y)[0, 1]\n",
        "\n",
        "print(\"Covariance is:\", covariance)\n",
        "print(\"Correlation Coefficient is:\", correlation)\n"
      ],
      "metadata": {
        "colab": {
          "base_uri": "https://localhost:8080/"
        },
        "id": "7dDV10GFdwqf",
        "outputId": "bc24844a-b34a-4ee8-fa28-679e4459bfa0"
      },
      "execution_count": 2,
      "outputs": [
        {
          "output_type": "stream",
          "name": "stdout",
          "text": [
            "Covariance is: 220.0\n",
            "Correlation Coefficient is: 0.995893206467704\n"
          ]
        }
      ]
    },
    {
      "cell_type": "code",
      "source": [
        "# Question 7: Write a Python script to draw a boxplot for the following numeric list and identify its outliers. Explain the result: data = [12, 14, 14, 15, 18, 19, 19, 21, 22, 22, 23, 23, 24, 26, 29, 35]\n",
        "\n",
        "import seaborn as sns\n",
        "data = [12, 14, 14, 15, 18, 19, 19, 21, 22, 22, 23, 23, 24, 26, 29, 35]\n",
        "sns.boxplot(data)\n",
        "\n",
        "# For outlier calculation\n",
        "\n",
        "import numpy as np\n",
        "data = [12, 14, 14, 15, 18, 19, 19, 21, 22, 22, 23, 23, 24, 26, 29, 35]\n",
        "Q1 = np.percentile(data, 25)\n",
        "Q3 = np.percentile(data, 75)\n",
        "IQR = Q3 - Q1\n",
        "\n",
        "lower_fence = Q1 - 1.5 * IQR\n",
        "upper_fence = Q3 + 1.5 * IQR\n",
        "\n",
        "outliers = [x for x in data if x < lower_fence or x > upper_fence]\n",
        "\n",
        "print(\"Outliers:\", outliers)\n"
      ],
      "metadata": {
        "colab": {
          "base_uri": "https://localhost:8080/",
          "height": 428
        },
        "id": "iyPkiLJvd-4e",
        "outputId": "ff16169a-6bd5-4350-d45d-24e5997e7dda"
      },
      "execution_count": 3,
      "outputs": [
        {
          "output_type": "stream",
          "name": "stdout",
          "text": [
            "Outliers: [35]\n"
          ]
        },
        {
          "output_type": "display_data",
          "data": {
            "text/plain": [
              "<Figure size 640x480 with 1 Axes>"
            ],
            "image/png": "[encoded data removed]"
          },
          "metadata": {}
        }
      ]
    },
    {
      "cell_type": "code",
      "source": [
        "#Question 8: You are working as a data analyst in an e-commerce company. The marketing team wants to know if there is a relationship between advertising spend and daily sales.\n",
        "# ● Explain how you would use covariance and correlation to explore this relationship.\n",
        "# ● Write Python code to compute the correlation between the two lists: advertising_spend = [200, 250, 300, 400, 500]\n",
        "# daily_sales = [2200, 2450, 2750, 3200, 4000]\n",
        "\n",
        "import numpy as np\n",
        "advertising_spend = [200, 250, 300, 400, 500]\n",
        "daily_sales = [2200, 2450, 2750, 3200, 4000]\n",
        "\n",
        "x = np.array(advertising_spend)\n",
        "y = np.array(daily_sales)\n",
        "\n",
        "mean_x = np.mean(x)\n",
        "mean_y = np.mean(y)\n",
        "covariance = np.mean((x - mean_x) * (y - mean_y))\n",
        "\n",
        "correlation = np.corrcoef(x, y)[0, 1]\n",
        "\n",
        "print(\"Covariance is:\", covariance)\n",
        "print(\"Correlation Coefficient is:\", correlation)\n",
        "\n"
      ],
      "metadata": {
        "colab": {
          "base_uri": "https://localhost:8080/"
        },
        "id": "XV5sD2VMem4q",
        "outputId": "ae440cfe-1f20-4309-9f75-41d88925549e"
      },
      "execution_count": 4,
      "outputs": [
        {
          "output_type": "stream",
          "name": "stdout",
          "text": [
            "Covariance is: 67900.0\n",
            "Correlation Coefficient is: 0.9935824101653329\n"
          ]
        }
      ]
    },
    {
      "cell_type": "code",
      "source": [
        "# Question 9: Your team has collected customer satisfaction survey data on a scale of 1-10 and wants to understand its distribution before launching a new product. ● Explain which summary statistics and visualizations (e.g. mean, standard deviation, histogram) you’d use. ● Write Python code to create a histogram using Matplotlib for the survey data: survey_scores = [7, 8, 5, 9, 6, 7, 8, 9, 10, 4, 7, 6, 9, 8, 7]\n",
        "\n",
        "import matplotlib.pyplot as plt\n",
        "import numpy as np\n",
        "import statistics\n",
        "survey_scores = [7, 8, 5, 9, 6, 7, 8, 9, 10, 4, 7, 6, 9, 8, 7]\n",
        "\n",
        "mean_score = np.mean(survey_scores)\n",
        "median_score = np.median(survey_scores)\n",
        "mode_score = statistics.mode(survey_scores)\n",
        "std_dev = np.std(survey_scores)\n",
        "\n",
        "print(\"Mean:\", mean_score)\n",
        "print(\"Median:\", median_score)\n",
        "print(\"Mode:\", mode_score)\n",
        "print(\"Standard Deviation:\", std_dev)\n",
        "\n",
        "plt.hist(survey_scores, bins=6, color=\"Red\", edgecolor=\"black\")\n",
        "plt.title(\"Histogram of Customer Satisfaction Survey Scores\")\n",
        "plt.xlabel(\"Survey Score\")\n",
        "plt.ylabel(\"Frequency\")\n",
        "plt.show()\n"
      ],
      "metadata": {
        "colab": {
          "base_uri": "https://localhost:8080/",
          "height": 541
        },
        "id": "8eWHHn3ZfALA",
        "outputId": "9d40dfd0-5be6-4aae-bc39-ebe04298a981"
      },
      "execution_count": 5,
      "outputs": [
        {
          "output_type": "stream",
          "name": "stdout",
          "text": [
            "Mean: 7.333333333333333\n",
            "Median: 7.0\n",
            "Mode: 7\n",
            "Standard Deviation: 1.577621275493231\n"
          ]
        },
        {
          "output_type": "display_data",
          "data": {
            "text/plain": [
              "<Figure size 640x480 with 1 Axes>"
            ],
            "image/png": "[encoded data removed]"
          },
          "metadata": {}
        }
      ]
    }
  ]
}